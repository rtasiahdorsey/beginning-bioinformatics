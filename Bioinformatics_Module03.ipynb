{
  "nbformat": 4,
  "nbformat_minor": 0,
  "metadata": {
    "colab": {
      "provenance": [],
      "collapsed_sections": [
        "jYlnA2Z2FhoW",
        "qRj8vCvXG-1k",
        "s7deJQCHHwOa",
        "GtjxkNHWN5Xo",
        "3yswDberkE7N",
        "4IM-9eAGkPdi",
        "nlBbe3qBRH_J",
        "_F9KCUzCd3ID",
        "iHFNxm30lzic",
        "sOgq54Op4MZL",
        "R5_dYi9f6t1z",
        "LdtXZ0LW9ugo",
        "i4Fo-ddSKWwy",
        "iupO8iI-ZYAe",
        "lY924yM0jckW",
        "NvqGEl4JjpiO",
        "DHzE7CI4lWGw",
        "WD5wnvQkmh6E",
        "kApNvgOLn8lp",
        "kq9QbEttnA4h"
      ],
      "include_colab_link": true
    },
    "kernelspec": {
      "name": "python3",
      "display_name": "Python 3"
    },
    "language_info": {
      "name": "python"
    }
  },
  "cells": [
    {
      "cell_type": "markdown",
      "metadata": {
        "id": "view-in-github",
        "colab_type": "text"
      },
      "source": [
        "<a href=\"https://colab.research.google.com/github/rtasiahdorsey/beginning-bioinformatics/blob/main/Bioinformatics_Module03.ipynb\" target=\"_parent\"><img src=\"https://colab.research.google.com/assets/colab-badge.svg\" alt=\"Open In Colab\"/></a>"
      ]
    },
    {
      "cell_type": "markdown",
      "source": [
        "# **<font color=blue>P1.** </font>Rename this notebook **Bioinformatics_Module03.ipynb </font><br>**"
      ],
      "metadata": {
        "id": "l3h89jAYBUzz"
      }
    },
    {
      "cell_type": "markdown",
      "source": [
        "# **<font color=blue>P2. </font>**```print()```writes to standard output (i.e. prints output to the screen)"
      ],
      "metadata": {
        "id": "jYlnA2Z2FhoW"
      }
    },
    {
      "cell_type": "markdown",
      "source": [
        "####**TASK P2.1:** Print <font color = magenta>hello world</font>"
      ],
      "metadata": {
        "id": "r118fqQodA9x"
      }
    },
    {
      "cell_type": "code",
      "source": [
        "print(\"hello world\")"
      ],
      "metadata": {
        "id": "kvxK8D5uFx_x",
        "colab": {
          "base_uri": "https://localhost:8080/"
        },
        "outputId": "af872eab-07cf-458a-d86d-dfaabd10bacf"
      },
      "execution_count": null,
      "outputs": [
        {
          "output_type": "stream",
          "name": "stdout",
          "text": [
            "hello world\n"
          ]
        }
      ]
    },
    {
      "cell_type": "markdown",
      "source": [
        "# **<font color=blue>P3. </font>**```=``` is the ASSIGNMENT operator (assigns values to variables)\n",
        "####**TASK P3.1:** Ask Gemini, \"*Give me 3 examples to help practice understanding the assignment operator.*\""
      ],
      "metadata": {
        "id": "qRj8vCvXG-1k"
      }
    },
    {
      "cell_type": "code",
      "source": [
        "x=5\n",
        "x"
      ],
      "metadata": {
        "id": "VB8HPNe7JpuJ",
        "colab": {
          "base_uri": "https://localhost:8080/"
        },
        "outputId": "0608989f-ef6d-4df4-e175-c498b2ed9886"
      },
      "execution_count": null,
      "outputs": [
        {
          "output_type": "execute_result",
          "data": {
            "text/plain": [
              "5"
            ]
          },
          "metadata": {},
          "execution_count": 2
        }
      ]
    },
    {
      "cell_type": "markdown",
      "source": [
        "# **<font color=blue>P4. </font>** Data types: use ```type()``` to find a variable's \"type\"\n",
        "####**TASK P4.1:** Ask Gemini, \"*Give me examples of each data type to see how they look as outputs.*\""
      ],
      "metadata": {
        "id": "s7deJQCHHwOa"
      }
    },
    {
      "cell_type": "code",
      "source": [
        "type(3.3)"
      ],
      "metadata": {
        "colab": {
          "base_uri": "https://localhost:8080/"
        },
        "id": "ktR75uWIJ0uc",
        "outputId": "787128f2-65df-49b3-8374-6f02bcbc624a"
      },
      "execution_count": null,
      "outputs": [
        {
          "output_type": "execute_result",
          "data": {
            "text/plain": [
              "float"
            ]
          },
          "metadata": {},
          "execution_count": 7
        }
      ]
    },
    {
      "cell_type": "markdown",
      "source": [
        "# **<font color=blue>P5. </font>** Arithmetic and comparison operators\n",
        "####**TASK P5.1:**   Complete Rosalind #1"
      ],
      "metadata": {
        "id": "GtjxkNHWN5Xo"
      }
    },
    {
      "cell_type": "code",
      "source": [
        "a=930\n",
        "b=996\n",
        "c=a**2+b**2\n",
        "c"
      ],
      "metadata": {
        "id": "45s9c4vyQm2U",
        "outputId": "7352d2ba-8af1-4ed2-9e68-3d4e5d3d53dd",
        "colab": {
          "base_uri": "https://localhost:8080/"
        }
      },
      "execution_count": null,
      "outputs": [
        {
          "output_type": "execute_result",
          "data": {
            "text/plain": [
              "1856916"
            ]
          },
          "metadata": {},
          "execution_count": 2
        }
      ]
    },
    {
      "cell_type": "markdown",
      "source": [
        "# **<font color=blue>P6. </font>** ```input()``` gets input from the user"
      ],
      "metadata": {
        "id": "3yswDberkE7N"
      }
    },
    {
      "cell_type": "markdown",
      "source": [
        "TASK P6.1"
      ],
      "metadata": {
        "id": "z97rSY9gqdad"
      }
    },
    {
      "cell_type": "code",
      "metadata": {
        "id": "d91046dd"
      },
      "source": [
        "name = input(\"Enter your name: \")\n",
        "print(\"Hello, \" + name)"
      ],
      "execution_count": null,
      "outputs": []
    },
    {
      "cell_type": "markdown",
      "source": [
        "####**TASK P6.1:** Solve Rosalind #1 again, but get user input for the values of a and b rather than modifying the code."
      ],
      "metadata": {
        "id": "e3LaAQeLRmE6"
      }
    },
    {
      "cell_type": "code",
      "source": [
        "a= int(input(\"enter a value for a:\"))\n",
        "b= int(input(\"enter a value for b:\"))\n",
        "c=a**2+b**2\n",
        "print (\"The sq of the hypotenuse is\",c)"
      ],
      "metadata": {
        "id": "wZ0XL0L6Rq2H",
        "colab": {
          "base_uri": "https://localhost:8080/"
        },
        "outputId": "1055cb1f-c711-4f4b-80f5-94066881ad87"
      },
      "execution_count": null,
      "outputs": [
        {
          "output_type": "stream",
          "name": "stdout",
          "text": [
            "enter a value for a:930\n",
            "enter a value for b:260\n",
            "The sq of the hypotenuse is 932500\n"
          ]
        }
      ]
    },
    {
      "cell_type": "markdown",
      "source": [
        "# **<font color=blue>P7. </font>** ```list``` type variables (create, replace, append)"
      ],
      "metadata": {
        "id": "4IM-9eAGkPdi"
      }
    },
    {
      "cell_type": "markdown",
      "source": [
        "####**TASK P7.1**"
      ],
      "metadata": {
        "id": "DhNGdYK6NEpe"
      }
    },
    {
      "cell_type": "code",
      "source": [
        "# Create a list with 3 elements and then print them\n",
        "\n",
        "my_list = [\"turkey\", \"cheese\", \"bread\"]\n",
        "print (my_list)"
      ],
      "metadata": {
        "id": "N3VRRQIEkXuP",
        "colab": {
          "base_uri": "https://localhost:8080/"
        },
        "outputId": "d55ad3e8-7d60-400b-a592-40814be41e1f"
      },
      "execution_count": null,
      "outputs": [
        {
          "output_type": "stream",
          "name": "stdout",
          "text": [
            "['turkey', 'cheese', 'bread']\n"
          ]
        }
      ]
    },
    {
      "cell_type": "markdown",
      "source": [
        "####**TASK P7.2**"
      ],
      "metadata": {
        "id": "Yn3bAoi8NKy5"
      }
    },
    {
      "cell_type": "code",
      "source": [
        "# Substitute the item at index 2 in the list\n",
        "my_list[2] = \"hello\"\n",
        "print (my_list)"
      ],
      "metadata": {
        "id": "WNnsUuduOKbI",
        "colab": {
          "base_uri": "https://localhost:8080/"
        },
        "outputId": "93a0dfe4-2668-40d8-c1c4-614ef9e330cb"
      },
      "execution_count": null,
      "outputs": [
        {
          "output_type": "stream",
          "name": "stdout",
          "text": [
            "['turkey', 'cheese', 'hello']\n"
          ]
        }
      ]
    },
    {
      "cell_type": "markdown",
      "source": [
        "####**TASK P7.3**"
      ],
      "metadata": {
        "id": "SxiMMNLyPwGV"
      }
    },
    {
      "cell_type": "code",
      "source": [
        "# Append an item to the end of the list\n",
        "my_list.append(\"Come again\")\n",
        "print (my_list)"
      ],
      "metadata": {
        "id": "3VrLc6CGQTi-",
        "colab": {
          "base_uri": "https://localhost:8080/"
        },
        "outputId": "a3378cf1-6632-4e29-8037-48230d7577bc"
      },
      "execution_count": null,
      "outputs": [
        {
          "output_type": "stream",
          "name": "stdout",
          "text": [
            "['turkey', 'cheese', 'hello', 'Come again']\n"
          ]
        }
      ]
    },
    {
      "cell_type": "markdown",
      "source": [
        "####**TASK P7.4**. Ask Gemini how to <font color=crimson>```insert```</font> a new item at index 1 in the list"
      ],
      "metadata": {
        "id": "XQKmwgbfQond"
      }
    },
    {
      "cell_type": "code",
      "source": [
        "my_list.insert(1, \"World\")\n",
        "print(my_list)"
      ],
      "metadata": {
        "colab": {
          "base_uri": "https://localhost:8080/"
        },
        "id": "P1WyUxUEYNVj",
        "outputId": "a8cacb69-cd07-4999-9e46-f3addf2470fe"
      },
      "execution_count": null,
      "outputs": [
        {
          "output_type": "stream",
          "name": "stdout",
          "text": [
            "['turkey', 'World', 'cheese', 'hello', 'Come again']\n"
          ]
        }
      ]
    },
    {
      "cell_type": "markdown",
      "source": [
        "# **<font color=blue>P8. </font>** Slicing lists and strings"
      ],
      "metadata": {
        "id": "nlBbe3qBRH_J"
      }
    },
    {
      "cell_type": "markdown",
      "source": [
        "####**TASK P8.1** Slice and print only the middle two elements from the list created in P7 (i.e. only <font color=magenta>World</font> and <font color=magenta>Alfred R. Wallace</font>).  "
      ],
      "metadata": {
        "id": "M0YW2MP0WtuI"
      }
    },
    {
      "cell_type": "code",
      "source": [
        "print (my_list[2:4])"
      ],
      "metadata": {
        "colab": {
          "base_uri": "https://localhost:8080/"
        },
        "id": "Tp1djNtiaxSb",
        "outputId": "7dfd0df1-0b5b-4aae-ad21-83321586f755"
      },
      "execution_count": null,
      "outputs": [
        {
          "output_type": "stream",
          "name": "stdout",
          "text": [
            "['cheese', 'hello']\n"
          ]
        }
      ]
    },
    {
      "cell_type": "markdown",
      "source": [
        "####**TASK P8.2**: Print <font color=magenta>Wallace World</font> from **my_string** by slicing\n"
      ],
      "metadata": {
        "id": "_F9KCUzCd3ID"
      }
    },
    {
      "cell_type": "code",
      "source": [
        "my_string = \"HelloWorldCharlesDarwinAlfred R. Walace\"\n",
        "print (my_string[0:5],my_string[5:10])\n",
        "\n",
        "# in the print command below input the correct index values to complete Task P8.2\n",
        "print (my_string[32 :39 ],my_string[5: 10])"
      ],
      "metadata": {
        "colab": {
          "base_uri": "https://localhost:8080/"
        },
        "id": "AafKngtba8En",
        "outputId": "4ae75313-cfdc-44f4-f0ea-55f176c6d365"
      },
      "execution_count": null,
      "outputs": [
        {
          "output_type": "stream",
          "name": "stdout",
          "text": [
            "Hello World\n",
            " Walace World\n"
          ]
        }
      ]
    },
    {
      "cell_type": "markdown",
      "source": [
        "####**TASK P8.3**  **<font color = orange> Complete Rosalind Problem #2 Strings and Lists</font>**"
      ],
      "metadata": {
        "id": "2TTQVE-Xf8jR"
      }
    },
    {
      "cell_type": "code",
      "source": [
        "# Enter code for Rosalind 2 here:\n",
        "\n",
        "my_string = \"yfFTBU3dXcBxdLGNr8L6RJi4qagZPE2Ra4D0czzfQMyotis5oX0Woz6fZZAPuEmXjEA17WwdpaRneYGeB23g2VqqPDv4MH4KYVp5hQP3flC68x5kYjwe4CleZBw0gregariustumPxVvThb1Z5dkIMUKRBwzzvtLQHe7UW3dqkb1c9A5TxVT8QEu.\"\n",
        "print (my_string[41 :47],my_string[124:133])"
      ],
      "metadata": {
        "id": "LI88f5RZh4GL",
        "colab": {
          "base_uri": "https://localhost:8080/"
        },
        "outputId": "150f65a2-fc0f-4f86-c24b-ef1cf3123163"
      },
      "execution_count": null,
      "outputs": [
        {
          "output_type": "stream",
          "name": "stdout",
          "text": [
            "Myotis gregarius\n"
          ]
        }
      ]
    },
    {
      "cell_type": "markdown",
      "source": [
        "####**<font color=crimson>TASK 8.4 Commit to GitHub**</font>*italicized text*"
      ],
      "metadata": {
        "id": "Tw6Pwh6TjwJ9"
      }
    },
    {
      "cell_type": "markdown",
      "source": [
        "# **<font color=blue>P9. </font>** ```if``` and ```else``` - conditional output"
      ],
      "metadata": {
        "id": "iHFNxm30lzic"
      }
    },
    {
      "cell_type": "markdown",
      "source": [
        "####**TASK P9.1** Create some code that subtracts two numbers if they are different or adds them if they are the same."
      ],
      "metadata": {
        "id": "WCXnGdftztbN"
      }
    },
    {
      "cell_type": "code",
      "source": [
        "a=5\n",
        "b=5\n",
        "\n",
        "if a!=b:\n",
        "  print(a-b)\n",
        "\n",
        "else:\n",
        "  print(a+b)"
      ],
      "metadata": {
        "id": "KabZsL5Fy8jJ",
        "colab": {
          "base_uri": "https://localhost:8080/"
        },
        "outputId": "6e577768-1cc4-49d6-f313-7d9237f49f87"
      },
      "execution_count": null,
      "outputs": [
        {
          "output_type": "stream",
          "name": "stdout",
          "text": [
            "10\n"
          ]
        }
      ]
    },
    {
      "cell_type": "code",
      "source": [
        "\n",
        "a = int(input(\"Enter the first integer (a): \"))\n",
        "b = int(input(\"Enter the second integer (b): \"))\n",
        "\n",
        "\n",
        "odd_sum = 0\n",
        "\n",
        "\n",
        "for number in range(a, b + 1):\n",
        "\n",
        "    if number % 2 != 0:\n",
        "        odd_sum += number\n",
        "\n",
        "\n",
        "print(\"The sum of all odd integers from\", a, \"to\", b, \"is:\", odd_sum)\n",
        "\n",
        "\n"
      ],
      "metadata": {
        "colab": {
          "base_uri": "https://localhost:8080/"
        },
        "id": "kr5iGjP3LykU",
        "outputId": "f1f7ebe2-5ca9-4705-becd-1c3da7a29d3d"
      },
      "execution_count": null,
      "outputs": [
        {
          "output_type": "stream",
          "name": "stdout",
          "text": [
            "Enter the first integer (a): 973\n",
            "Enter the second integer (b): 839\n",
            "The sum of all odd integers from 973 to 839 is: 0\n"
          ]
        }
      ]
    },
    {
      "cell_type": "markdown",
      "source": [
        "# **<font color=blue>P10.</font>** ```while``` loops"
      ],
      "metadata": {
        "id": "sOgq54Op4MZL"
      }
    },
    {
      "cell_type": "markdown",
      "source": [
        "####**TASK P10.1** Create a while loop that runs 3 times\n"
      ],
      "metadata": {
        "id": "JMqGqhTn4l9s"
      }
    },
    {
      "cell_type": "code",
      "source": [
        "#initiate a counter\n",
        "a = 4\n",
        "\n",
        "#print \"Counting!\" while a<=3\n",
        "while a <= 3:\n",
        "\n",
        "    print (\"Counting!\" * a)\n",
        "    #a += 1"
      ],
      "metadata": {
        "id": "07YbiCGO4O1w"
      },
      "execution_count": null,
      "outputs": []
    },
    {
      "cell_type": "markdown",
      "source": [
        "# **<font color=blue>P11.</font>** ```for``` loops – looping over lists"
      ],
      "metadata": {
        "id": "R5_dYi9f6t1z"
      }
    },
    {
      "cell_type": "markdown",
      "source": [
        "####**TASK P11.1** Create a for loop to print each item in a list\n"
      ],
      "metadata": {
        "id": "x9F7v_V073wO"
      }
    },
    {
      "cell_type": "code",
      "source": [
        "names = [\"Tammy\",\"Charlotte\",\"Reed\"]\n",
        "\n",
        "for name in names:\n",
        "    print (\"Hello\", name)"
      ],
      "metadata": {
        "id": "-aqaQ5hz70yo",
        "colab": {
          "base_uri": "https://localhost:8080/"
        },
        "outputId": "c95a23ff-31ff-4f4c-8d17-2bb9108859be"
      },
      "execution_count": null,
      "outputs": [
        {
          "output_type": "stream",
          "name": "stdout",
          "text": [
            "Hello Tammy\n",
            "Hello Charlotte\n",
            "Hello Reed\n"
          ]
        }
      ]
    },
    {
      "cell_type": "markdown",
      "source": [
        "# **<font color=blue>P12.</font>** ```for``` loops over a ```range()```of numbers"
      ],
      "metadata": {
        "id": "LdtXZ0LW9ugo"
      }
    },
    {
      "cell_type": "markdown",
      "source": [
        "####**TASK 12.1** Using for and range(), create code that prints the numbers 0-9"
      ],
      "metadata": {
        "id": "jG6jvXEBDi4H"
      }
    },
    {
      "cell_type": "code",
      "source": [
        "# Create a variable to define the  number of iterations\n",
        "iterations = 16\n",
        "\n",
        "#Print the current item's value each time through the loop\n",
        "for number in range(iterations):\n",
        "    print (number)"
      ],
      "metadata": {
        "colab": {
          "base_uri": "https://localhost:8080/"
        },
        "id": "RFBXqQNu_E6X",
        "outputId": "c32dbd64-43ef-4e27-eea8-06691781f8b5"
      },
      "execution_count": null,
      "outputs": [
        {
          "output_type": "stream",
          "name": "stdout",
          "text": [
            "0\n",
            "1\n",
            "2\n",
            "3\n",
            "4\n",
            "5\n",
            "6\n",
            "7\n",
            "8\n",
            "9\n",
            "10\n",
            "11\n",
            "12\n",
            "13\n",
            "14\n",
            "15\n"
          ]
        }
      ]
    },
    {
      "cell_type": "markdown",
      "source": [
        "####**TASK 12.2** Modify the code so that it only prints every 3rd number from 9 through 27 (i.e. including 27)"
      ],
      "metadata": {
        "id": "NRd5srR_G-PQ"
      }
    },
    {
      "cell_type": "code",
      "source": [
        "iterations = 30\n",
        "\n",
        "start_value = 9\n",
        "stop_value = 30\n",
        "step_value = 3\n",
        "\n",
        "for number in range(start_value,stop_value, step_value):\n",
        "  print (number)"
      ],
      "metadata": {
        "id": "irYTFPO-IRHo",
        "colab": {
          "base_uri": "https://localhost:8080/"
        },
        "outputId": "e246af49-ef81-4976-aa4e-a8253b69ce03"
      },
      "execution_count": null,
      "outputs": [
        {
          "output_type": "stream",
          "name": "stdout",
          "text": [
            "9\n",
            "12\n",
            "15\n",
            "18\n",
            "21\n",
            "24\n",
            "27\n"
          ]
        }
      ]
    },
    {
      "cell_type": "markdown",
      "source": [
        "####**TASK 12.3** <font color = orange> **Complete Rosalind Problem #3 Conditions and Loops** </font>"
      ],
      "metadata": {
        "id": "83jDEjpMHXUa"
      }
    },
    {
      "cell_type": "code",
      "source": [
        "a= int(input(\"enter a value for a:\"))\n",
        "b= int(input(\"enter a value for b:\"))\n",
        "odd_sum=0\n",
        "\n",
        "for number in range (a,b,+1):\n",
        "  if number %2 !=0:\n",
        "    odd_sum += number\n",
        "    print (odd_sum) # This print statement seems out of place, it will print the sum at each step.\n",
        "if a < b < 10000:\n",
        "  print (odd_sum)\n",
        "else:\n",
        "  print (\"error\") # This else is connected to the outer if statement, which is likely not intended based on the Rosalind problem."
      ],
      "metadata": {
        "colab": {
          "base_uri": "https://localhost:8080/"
        },
        "id": "_XifzUc6zycs",
        "outputId": "acc3d8ff-6ad0-4066-e7a6-4edbe65caf63"
      },
      "execution_count": null,
      "outputs": [
        {
          "output_type": "stream",
          "name": "stdout",
          "text": [
            "enter a value for a:100\n",
            "enter a value for b:200\n",
            "101\n",
            "204\n",
            "309\n",
            "416\n",
            "525\n",
            "636\n",
            "749\n",
            "864\n",
            "981\n",
            "1100\n",
            "1221\n",
            "1344\n",
            "1469\n",
            "1596\n",
            "1725\n",
            "1856\n",
            "1989\n",
            "2124\n",
            "2261\n",
            "2400\n",
            "2541\n",
            "2684\n",
            "2829\n",
            "2976\n",
            "3125\n",
            "3276\n",
            "3429\n",
            "3584\n",
            "3741\n",
            "3900\n",
            "4061\n",
            "4224\n",
            "4389\n",
            "4556\n",
            "4725\n",
            "4896\n",
            "5069\n",
            "5244\n",
            "5421\n",
            "5600\n",
            "5781\n",
            "5964\n",
            "6149\n",
            "6336\n",
            "6525\n",
            "6716\n",
            "6909\n",
            "7104\n",
            "7301\n",
            "7500\n",
            "7501\n"
          ]
        }
      ]
    },
    {
      "cell_type": "markdown",
      "source": [
        "####**<font color=crimson>TASK 12.4 Commit to GitHub**</font>"
      ],
      "metadata": {
        "id": "3P9DKNbPI1wp"
      }
    },
    {
      "cell_type": "markdown",
      "source": [
        "# **<font color=blue>P13.</font>** File I/O – with open(\"filename\", \"mode\") as filehandle:\n"
      ],
      "metadata": {
        "id": "i4Fo-ddSKWwy"
      }
    },
    {
      "cell_type": "markdown",
      "source": [
        "####**TASK P13.1** Use the ```read()``` function to print the <font color = orange>practice dataset from Rosalind #4</font>\n"
      ],
      "metadata": {
        "id": "sgc3wiQmLXcI"
      }
    },
    {
      "cell_type": "code",
      "source": [
        "\n",
        "with open (\"practice.txt\", \"w\") as f:\n",
        "  f.write(\"Bravely bold Sir Robin rode forth from Camelot. Yes, brave Sir Robin turned about. He was not afraid to die, O brave Sir Robin. And gallantly he chickened out. He was not at all afraid to be killed in nasty ways. Bravely talking to his feet. Brave, brave, brave, brave Sir Robin. He beat a very brave retreat\")\n",
        "\n",
        "with open (\"practice.txt\", \"r\") as infile:\n",
        "  text =infile.read()\n",
        "\n",
        "sentences= text.split(\".\")\n",
        "\n",
        "with open (\"practice.txt\",\"w\") as outfile:\n",
        "  for s in sentences:\n",
        "    if s.strip():\n",
        "      outfile.write(s.strip()+\"\\n\")\n",
        "\n",
        "with open (\"practice.txt\", \"r\") as f:\n",
        "  print(f.read())\n",
        "\n",
        "with open (\"practice.txt\", \"r\") as infile, open (\"practice.txt\",\"w\") as outfile:\n",
        "  for i, line in enumerate(infile, start=1):\n",
        "    if i % 2 == 0:\n",
        "      outfile.write(line)\n",
        "with open (\"practice.txt\") as outfile:\n",
        "  print(outfile.read())\n",
        "\n",
        "with open (\"practice.txt\", \"r\") as f:\n",
        "  for i, line in enumerate(f,start=1):\n",
        "    if i % 2 == 0:\n",
        "      print(line.strip())"
      ],
      "metadata": {
        "id": "V5nzHsnULA_n",
        "colab": {
          "base_uri": "https://localhost:8080/"
        },
        "outputId": "63506bfc-68fc-409a-9c53-0208446a35cf"
      },
      "execution_count": null,
      "outputs": [
        {
          "output_type": "stream",
          "name": "stdout",
          "text": [
            "Bravely bold Sir Robin rode forth from Camelot\n",
            "Yes, brave Sir Robin turned about\n",
            "He was not afraid to die, O brave Sir Robin\n",
            "And gallantly he chickened out\n",
            "He was not at all afraid to be killed in nasty ways\n",
            "Bravely talking to his feet\n",
            "Brave, brave, brave, brave Sir Robin\n",
            "He beat a very brave retreat\n",
            "\n",
            "\n"
          ]
        }
      ]
    },
    {
      "cell_type": "code",
      "source": [
        "with open (\"practice.txt\", \"r\") as f:\n",
        "  print(f.read())\n",
        "\n",
        "with open (\"practice.txt\", \"r\") as infile, open (\"practice.txt\",\"w\") as outfile:\n",
        "  for i, line in enumerate(infile, start=1):\n",
        "    if i % 2 == 0:\n",
        "      outfile.write(line)\n",
        "with open (\"practice.txt\") as outfile:\n",
        "  print(outfile.read())\n",
        "\n",
        "with open (\"practice.txt\", \"r\") as f:\n",
        "  for i, line in enumerate(f,start=1):\n",
        "    if i % 2 == 0:\n",
        "      print(line.strip())"
      ],
      "metadata": {
        "colab": {
          "base_uri": "https://localhost:8080/"
        },
        "id": "CHwf2N76I075",
        "outputId": "ce08aedc-814b-427d-e6e7-a4bd41751a2f"
      },
      "execution_count": null,
      "outputs": [
        {
          "output_type": "stream",
          "name": "stdout",
          "text": [
            "\n",
            "\n"
          ]
        }
      ]
    },
    {
      "cell_type": "markdown",
      "source": [
        "####**TASK P13.2** Explore file object functions to read and print practice.txt"
      ],
      "metadata": {
        "id": "GLO6tBYNVzYZ"
      }
    },
    {
      "cell_type": "markdown",
      "source": [
        "#<font color=blue>**P14.**</font> Store the content, close the file, and join ( ) the list"
      ],
      "metadata": {
        "id": "iupO8iI-ZYAe"
      }
    },
    {
      "cell_type": "code",
      "source": [
        "with open(\"practice.txt\",\"r\") as data:\n",
        "\n",
        "  list_of_lines=data.readlines()\n",
        "\n",
        "print (list_of_lines)"
      ],
      "metadata": {
        "id": "8U5w2qOudDyp"
      },
      "execution_count": null,
      "outputs": []
    },
    {
      "cell_type": "markdown",
      "source": [
        "####**TASK P14.1** Read practice.txt into a list of lines. Then, after the file is closed, use the join ( ) function to print the contents so it looks like the original input."
      ],
      "metadata": {
        "id": "5pPhGmQYiiKx"
      }
    },
    {
      "cell_type": "code",
      "source": [
        "print (\"_\".join())"
      ],
      "metadata": {
        "id": "XLvFZ9uSeyYH"
      },
      "execution_count": null,
      "outputs": []
    },
    {
      "cell_type": "markdown",
      "source": [
        "#<font color=blue>**P15.**</font> Combining for loops with file objects"
      ],
      "metadata": {
        "id": "lY924yM0jckW"
      }
    },
    {
      "cell_type": "markdown",
      "source": [
        "####**TASK P15.1** Use a for loop to print each line in practice.txt"
      ],
      "metadata": {
        "id": "NvqGEl4JjpiO"
      }
    },
    {
      "cell_type": "code",
      "source": [
        "with open(\"practice.txt\",\"r\") as data:\n",
        "\n",
        "  for line in data:\n",
        "    print (line)"
      ],
      "metadata": {
        "id": "snY-10pUkMby"
      },
      "execution_count": null,
      "outputs": []
    },
    {
      "cell_type": "markdown",
      "source": [
        "####**TASK P15.2** <font color=orange>**Complete Rosalind Problem #4 Working with Files**</font>\n"
      ],
      "metadata": {
        "id": "DHzE7CI4lWGw"
      }
    },
    {
      "cell_type": "code",
      "source": [],
      "metadata": {
        "id": "8QR9dRFtltBN"
      },
      "execution_count": null,
      "outputs": []
    },
    {
      "cell_type": "markdown",
      "source": [
        "####**<font color=crimson>TASK 15.4 Commit to GitHub**</font>"
      ],
      "metadata": {
        "id": "GJ_acW4WlwDn"
      }
    },
    {
      "cell_type": "markdown",
      "source": [
        "#<font color=blue>**P16.**</font> ```for word in line.split()``` – looping over strings and splitting by any delimiter"
      ],
      "metadata": {
        "id": "WD5wnvQkmh6E"
      }
    },
    {
      "cell_type": "markdown",
      "source": [
        "####**TASK P16.1** Print each word in the ROSALIND Problem #5 Sample Dataset on a separate line.\n"
      ],
      "metadata": {
        "id": "kApNvgOLn8lp"
      }
    },
    {
      "cell_type": "code",
      "source": [
        "with open(\"practice_5.txt\",\"w\") as data:\n",
        "  data.write(\"We tried list and we tried dicts also we tried Zen\")\n",
        "with open(\"practice_5.txt\",\"r\") as data:\n",
        "  for line in data:\n",
        "    for word in line.split():\n",
        "      print (word)\n"
      ],
      "metadata": {
        "colab": {
          "base_uri": "https://localhost:8080/"
        },
        "id": "KG0VwoRRKBZk",
        "outputId": "05c68c5b-d34c-4a2c-e205-ba95ab0fda37"
      },
      "execution_count": null,
      "outputs": [
        {
          "output_type": "stream",
          "name": "stdout",
          "text": [
            "We\n",
            "tried\n",
            "list\n",
            "and\n",
            "we\n",
            "tried\n",
            "dicts\n",
            "also\n",
            "we\n",
            "tried\n",
            "Zen\n"
          ]
        }
      ]
    },
    {
      "cell_type": "code",
      "source": [
        "my_string = \"When I find myself in times of trouble Mother Mary comes to me Speaking words of wisdom let it be And in my hour of darkness she is standing right in front of me Speaking words of wisdom let it be Let it be let it be let it be let it be Whisper words of wisdom let it be And when the broken hearted people living in the world agree There will be an answer let it be For though they may be parted there is still a chance that they will see There will be an answer let it be Let it be let it be let it be let it be There will be an answer let it be Let it be let it be let it be let it be Whisper words of wisdom let it be Let it be let it be let it be let it be Whisper words of wisdom let it be And when the night is cloudy there is still a light that shines on me Shine until tomorrow let it be I wake up to the sound of music Mother Mary comes to me Speaking words of wisdom let it be Let it be let it be let it be yeah let it be There will be an answer let it be Let it be let it be let it be yeah let it be Whisper words of wisdom let it be\"\n",
        "words = my_string.split()\n",
        "word_counts = {}\n",
        "for word in words:\n",
        "  if word in word_counts:\n",
        "    word_counts[word] += 1\n",
        "  else:\n",
        "    word_counts[word] = 1\n",
        "for word, count in word_counts.items():\n",
        "  print(f\"{word}: {count}\")"
      ],
      "metadata": {
        "colab": {
          "base_uri": "https://localhost:8080/"
        },
        "id": "PJrRANvPOzy_",
        "outputId": "fd767680-4f62-4800-e93d-0ebafc4fe9aa"
      },
      "execution_count": null,
      "outputs": [
        {
          "output_type": "stream",
          "name": "stdout",
          "text": [
            "When: 1\n",
            "I: 2\n",
            "find: 1\n",
            "myself: 1\n",
            "in: 4\n",
            "times: 1\n",
            "of: 11\n",
            "trouble: 1\n",
            "Mother: 2\n",
            "Mary: 2\n",
            "comes: 2\n",
            "to: 3\n",
            "me: 4\n",
            "Speaking: 3\n",
            "words: 7\n",
            "wisdom: 7\n",
            "let: 30\n",
            "it: 36\n",
            "be: 41\n",
            "And: 3\n",
            "my: 1\n",
            "hour: 1\n",
            "darkness: 1\n",
            "she: 1\n",
            "is: 4\n",
            "standing: 1\n",
            "right: 1\n",
            "front: 1\n",
            "Let: 6\n",
            "Whisper: 4\n",
            "when: 2\n",
            "the: 4\n",
            "broken: 1\n",
            "hearted: 1\n",
            "people: 1\n",
            "living: 1\n",
            "world: 1\n",
            "agree: 1\n",
            "There: 4\n",
            "will: 5\n",
            "an: 4\n",
            "answer: 4\n",
            "For: 1\n",
            "though: 1\n",
            "they: 2\n",
            "may: 1\n",
            "parted: 1\n",
            "there: 2\n",
            "still: 2\n",
            "a: 2\n",
            "chance: 1\n",
            "that: 2\n",
            "see: 1\n",
            "night: 1\n",
            "cloudy: 1\n",
            "light: 1\n",
            "shines: 1\n",
            "on: 1\n",
            "Shine: 1\n",
            "until: 1\n",
            "tomorrow: 1\n",
            "wake: 1\n",
            "up: 1\n",
            "sound: 1\n",
            "music: 1\n",
            "yeah: 2\n"
          ]
        }
      ]
    },
    {
      "cell_type": "markdown",
      "source": [
        "#<font color=blue>**P17.**</font> Python Dictionaries { }"
      ],
      "metadata": {
        "id": "kq9QbEttnA4h"
      }
    },
    {
      "cell_type": "markdown",
      "source": [
        "####**TASK 17.1** Create and print your first dictionary"
      ],
      "metadata": {
        "id": "lVudFQkZqJgh"
      }
    },
    {
      "cell_type": "code",
      "source": [
        "sequences = {\n",
        "    \"H.neandertalensis\":\"ACGTCGCTCTGCTA\",\n",
        "    \"H.sapiens\":\"ACGTCACTCTGCTA\"\n",
        "    }\n",
        "\n",
        "print (sequences)"
      ],
      "metadata": {
        "colab": {
          "base_uri": "https://localhost:8080/"
        },
        "id": "IzKFWDlgq6zo",
        "outputId": "840fc71a-5d39-4fad-83f9-e729c93f6527"
      },
      "execution_count": null,
      "outputs": [
        {
          "output_type": "stream",
          "name": "stdout",
          "text": [
            "{'H.neandertalensis': 'ACGTCGCTCTGCTA', 'H.sapiens': 'ACGTCACTCTGCTA'}\n"
          ]
        }
      ]
    },
    {
      "cell_type": "markdown",
      "source": [
        "#<font color=blue>**P18.**</font> Manipulating and printing dictionaries"
      ],
      "metadata": {
        "id": "OvqoT6UwnK0g"
      }
    },
    {
      "cell_type": "markdown",
      "source": [
        "####**TASK 18.1** Modify line 8 to create a fasta file of the hominid sequences"
      ],
      "metadata": {
        "id": "5Be2tcQRrjso"
      }
    },
    {
      "cell_type": "code",
      "source": [
        "sequences = {\n",
        "    \"H.neandertalensis\":\"ACGTCGCTCTGCTA\",\n",
        "    \"H.sapiens\":\"ACGTCACTCTGCTA\"\n",
        "    }\n",
        "sequences.update({\"G.gorilla\":\"ACGTCCTCCTA\", \"H.erectus\":\"ACGTCACTCTGCTA\"})\n",
        "sequences[\"P.troglodytes\"] = \"ACGTCACTCTGCTA\"\n",
        "\n",
        "print (sequences[\"H.erectus\"])\n",
        "\n",
        "for key,value in sequences.items():\n",
        "  print(f\">{key}\\n{value}\")\n",
        "\n",
        "\n",
        "\n"
      ],
      "metadata": {
        "colab": {
          "base_uri": "https://localhost:8080/"
        },
        "id": "b-2XDof4rtP8",
        "outputId": "bd95ad1e-0f2e-4548-801b-5f8d9858387d"
      },
      "execution_count": null,
      "outputs": [
        {
          "output_type": "stream",
          "name": "stdout",
          "text": [
            "ACGTCACTCTGCTA\n",
            ">H.neandertalensis\n",
            "ACGTCGCTCTGCTA\n",
            ">H.sapiens\n",
            "ACGTCACTCTGCTA\n",
            ">G.gorilla\n",
            "ACGTCCTCCTA\n",
            ">H.erectus\n",
            "ACGTCACTCTGCTA\n",
            ">P.troglodytes\n",
            "ACGTCACTCTGCTA\n"
          ]
        }
      ]
    },
    {
      "cell_type": "markdown",
      "source": [
        "####**TASK P18.2** <font color= orange>**Complete Rosalind Problem #5  Dictionaries**</font>"
      ],
      "metadata": {
        "id": "Y98OZYUNvmWD"
      }
    },
    {
      "cell_type": "code",
      "source": [
        "my_string = \"When I find myself in times of trouble Mother Mary comes to me Speaking words of wisdom let it be And in my hour of darkness she is standing right in front of me Speaking words of wisdom let it be Let it be let it be let it be let it be Whisper words of wisdom let it be And when the broken hearted people living in the world agree There will be an answer let it be For though they may be parted there is still a chance that they will see There will be an answer let it be Let it be let it be let it be let it be There will be an answer let it be Let it be let it be let it be let it be Whisper words of wisdom let it be Let it be let it be let it be let it be Whisper words of wisdom let it be And when the night is cloudy there is still a light that shines on me Shine until tomorrow let it be I wake up to the sound of music Mother Mary comes to me Speaking words of wisdom let it be Let it be let it be let it be yeah let it be There will be an answer let it be Let it be let it be let it be yeah let it be Whisper words of wisdom let it be\"\n",
        "words = my_string.split()\n",
        "word_counts = {}\n",
        "for word in words:\n",
        "  if word in word_counts:\n",
        "    word_counts[word] += 1\n",
        "  else:\n",
        "    word_counts[word] = 1\n",
        "for word, count in word_counts.items():\n",
        "  print(f\"{word}: {count}\")"
      ],
      "metadata": {
        "id": "lD3KoTY9wWa7",
        "colab": {
          "base_uri": "https://localhost:8080/"
        },
        "outputId": "2cafdead-0775-4051-940d-728b07ff4b70"
      },
      "execution_count": null,
      "outputs": [
        {
          "output_type": "stream",
          "name": "stdout",
          "text": [
            "When: 1\n",
            "I: 2\n",
            "find: 1\n",
            "myself: 1\n",
            "in: 4\n",
            "times: 1\n",
            "of: 11\n",
            "trouble: 1\n",
            "Mother: 2\n",
            "Mary: 2\n",
            "comes: 2\n",
            "to: 3\n",
            "me: 4\n",
            "Speaking: 3\n",
            "words: 7\n",
            "wisdom: 7\n",
            "let: 30\n",
            "it: 36\n",
            "be: 41\n",
            "And: 3\n",
            "my: 1\n",
            "hour: 1\n",
            "darkness: 1\n",
            "she: 1\n",
            "is: 4\n",
            "standing: 1\n",
            "right: 1\n",
            "front: 1\n",
            "Let: 6\n",
            "Whisper: 4\n",
            "when: 2\n",
            "the: 4\n",
            "broken: 1\n",
            "hearted: 1\n",
            "people: 1\n",
            "living: 1\n",
            "world: 1\n",
            "agree: 1\n",
            "There: 4\n",
            "will: 5\n",
            "an: 4\n",
            "answer: 4\n",
            "For: 1\n",
            "though: 1\n",
            "they: 2\n",
            "may: 1\n",
            "parted: 1\n",
            "there: 2\n",
            "still: 2\n",
            "a: 2\n",
            "chance: 1\n",
            "that: 2\n",
            "see: 1\n",
            "night: 1\n",
            "cloudy: 1\n",
            "light: 1\n",
            "shines: 1\n",
            "on: 1\n",
            "Shine: 1\n",
            "until: 1\n",
            "tomorrow: 1\n",
            "wake: 1\n",
            "up: 1\n",
            "sound: 1\n",
            "music: 1\n",
            "yeah: 2\n"
          ]
        }
      ]
    },
    {
      "cell_type": "markdown",
      "source": [
        "####**<font color=crimson>TASK 18.3 Commit to GitHub**</font>"
      ],
      "metadata": {
        "id": "1dJdfy4bwVO4"
      }
    },
    {
      "cell_type": "markdown",
      "source": [
        "#<font color=blue>**P19.**</font> ```count()``` – counting things made easy"
      ],
      "metadata": {
        "id": "28ygQlYJnZoA"
      }
    },
    {
      "cell_type": "markdown",
      "source": [
        "####**TASK P19.1** <font color= orange>**Complete Rosalind Problem #6  Counting DNA Nucleotides**</font>"
      ],
      "metadata": {
        "id": "CZ9tBWDmw4D-"
      }
    },
    {
      "cell_type": "code",
      "source": [
        "string_data= \"GGCGAAATAATCGTCGCCAGTCAGCAATTGCCGGGCCCTGACGAAATCCTGAGCCCTGTGCCATAATGCTTGACGATGCATCCCTATACTGTGGTCGTTGTCTCAGAGGGTCACGGATTCATCCCAAAAGATCGCCGTGAGTCGTCGAACTAACGACCCCGCTGAGATTAAGGCCAGGAACATGCTGGGGACGCGGCTAGAAGACGCCCTAGGTTGTGTCGGCCTTCATCCTTTTCGATGCTTCGACGCATAACTACATGGTCTACCAAGAGTCATTTCTAATAATGTTGTAAGATTTCAAATCCAGTATGATGGAAGGCAGGGGGTCTCCCCGACGGAACCTCGCCTGGAATCGGGACACACTCCACCCTCCGTCTGTTTGGGGAGTTCGTAACTTTCCAACCGCACAATGGCGCAGTGAGTCGGCATTCTCGCCTTTACCGCCAAGCTGACTGCCTTCGCAACGTACCATTAGGTGGAGATTATTGAGGTCCGATTGTAGAATTAACAGAGAGCCGGGCGGCTTCTGTACACGGGCTCAAAGGTGTTGGAATAGCGTTTGTATTTCGGAGCACCACTCTCCTGCTCCGGGCCTCGTAAGGTTGGATTCCCGCGATCCCAAATTCCAATTCCGCCAAAGACTAGCTTAAATGTAGAGCGTCGGCGCGTCCATTGTGGCACCTGCCTGTATGAAACTCTTTGTAATAGAGATGAAGCGTGATTATTGTGTTGGTGAACTAGGAATGCGATGCATGGTATGTGGGAACAAAGCGCTATTGGCGCGCATTTCTTCTGGCGGATACCTTGCCCTGCCTACCTTCGCGGGCACCGAGGCCGAGGCTGCTTATTTTCGCGGACGGGCCCATCATTGCGCCATCGGATATTACGGAACGATTAAACATCGCATCTAATACTCTAATGAGTTTTGCGTCTGAACTGGTTATCGGTTGAGTCGATAGCGCCAGGATCATCAAAGGAGGACCTTAACAG\"\n",
        "string_data.count (\"search_string\")\n",
        "print(string_data.count(\"A\"),string_data.count(\"C\"),string_data.count(\"G\"),string_data.count(\"T\"))\n"
      ],
      "metadata": {
        "id": "GlwS14zGxBIC",
        "colab": {
          "base_uri": "https://localhost:8080/"
        },
        "outputId": "e02913e8-6b77-4965-ee59-5fee8ce91567"
      },
      "execution_count": null,
      "outputs": [
        {
          "output_type": "stream",
          "name": "stdout",
          "text": [
            "229 251 262 248\n"
          ]
        }
      ]
    },
    {
      "cell_type": "markdown",
      "source": [
        "####**TASK P19.2** Modify your code for the Rosalind #5 Dictionary problem so that it uses count( ) to count the words."
      ],
      "metadata": {
        "id": "rj-OWB6Jym5y"
      }
    },
    {
      "cell_type": "code",
      "source": [
        "my_string = \"When I find myself in times of trouble Mother Mary comes to me Speaking words of wisdom let it be And in my hour of darkness she is standing right in front of me Speaking words of wisdom let it be Let it be let it be let it be let it be Whisper words of wisdom let it be And when the broken hearted people living in the world agree There will be an answer let it be For though they may be parted there is still a chance that they will see There will be an answer let it be Let it be let it be let it be let it be There will be an answer let it be Let it be let it be let it be let it be Whisper words of wisdom let it be Let it be let it be let it be let it be Whisper words of wisdom let it be And when the night is cloudy there is still a light that shines on me Shine until tomorrow let it be I wake up to the sound of music Mother Mary comes to me Speaking words of wisdom let it be Let it be let it be let it be yeah let it be There will be an answer let it be Let it be let it be let it be yeah let it be Whisper words of wisdom let it be\"\n",
        "my_string.count(\"let\")\n",
        "print (my_string.count(\"let\"))"
      ],
      "metadata": {
        "id": "9H_S6jLnzfxR",
        "colab": {
          "base_uri": "https://localhost:8080/"
        },
        "outputId": "58851edc-656c-46e3-d1dc-a8dd62a01d62"
      },
      "execution_count": null,
      "outputs": [
        {
          "output_type": "stream",
          "name": "stdout",
          "text": [
            "30\n"
          ]
        }
      ]
    },
    {
      "cell_type": "markdown",
      "source": [
        "####**<font color=crimson>TASK 19.3 Commit to GitHub**</font>\n"
      ],
      "metadata": {
        "id": "RzMon_wAzg7D"
      }
    },
    {
      "cell_type": "markdown",
      "source": [
        "#<font color=blue>**P20.**</font> Installing biopython"
      ],
      "metadata": {
        "id": "-IB0c2gG0Z1O"
      }
    },
    {
      "cell_type": "code",
      "source": [
        "!pip install biopython"
      ],
      "metadata": {
        "colab": {
          "base_uri": "https://localhost:8080/"
        },
        "id": "pinPQdEn0mJM",
        "outputId": "11915b2b-fcc8-4bc0-d85a-0030cdcd964b"
      },
      "execution_count": 4,
      "outputs": [
        {
          "output_type": "stream",
          "name": "stdout",
          "text": [
            "Collecting biopython\n",
            "  Downloading biopython-1.85-cp312-cp312-manylinux_2_17_x86_64.manylinux2014_x86_64.whl.metadata (13 kB)\n",
            "Requirement already satisfied: numpy in /usr/local/lib/python3.12/dist-packages (from biopython) (2.0.2)\n",
            "Downloading biopython-1.85-cp312-cp312-manylinux_2_17_x86_64.manylinux2014_x86_64.whl (3.3 MB)\n",
            "\u001b[?25l   \u001b[90m━━━━━━━━━━━━━━━━━━━━━━━━━━━━━━━━━━━━━━━━\u001b[0m \u001b[32m0.0/3.3 MB\u001b[0m \u001b[31m?\u001b[0m eta \u001b[36m-:--:--\u001b[0m\r\u001b[2K   \u001b[91m━━━━━━━━━━━━━━━━━━━━━\u001b[0m\u001b[91m╸\u001b[0m\u001b[90m━━━━━━━━━━━━━━━━━━\u001b[0m \u001b[32m1.8/3.3 MB\u001b[0m \u001b[31m52.8 MB/s\u001b[0m eta \u001b[36m0:00:01\u001b[0m\r\u001b[2K   \u001b[90m━━━━━━━━━━━━━━━━━━━━━━━━━━━━━━━━━━━━━━━━\u001b[0m \u001b[32m3.3/3.3 MB\u001b[0m \u001b[31m57.4 MB/s\u001b[0m eta \u001b[36m0:00:00\u001b[0m\n",
            "\u001b[?25hInstalling collected packages: biopython\n",
            "Successfully installed biopython-1.85\n"
          ]
        }
      ]
    },
    {
      "cell_type": "code",
      "metadata": {
        "colab": {
          "base_uri": "https://localhost:8080/"
        },
        "id": "5ccd6f0b",
        "outputId": "c32a79bb-1134-4067-ba9c-a8cdd470ff0c"
      },
      "source": [
        "try:\n",
        "  from Bio.Seq import Seq\n",
        "  print(\"Biopython is installed correctly.\")\n",
        "except ImportError:\n",
        "  print(\"Biopython is not installed or there was an import error.\")"
      ],
      "execution_count": 5,
      "outputs": [
        {
          "output_type": "stream",
          "name": "stdout",
          "text": [
            "Biopython is installed correctly.\n"
          ]
        }
      ]
    },
    {
      "cell_type": "markdown",
      "source": [
        "#<font color=blue>**P21.**</font> Seq( ) – a function to define sequence objects"
      ],
      "metadata": {
        "id": "IGX-ThdQ3RuA"
      }
    },
    {
      "cell_type": "code",
      "source": [
        "from Bio.Seq import Seq\n",
        "\n",
        "my_sequence = Seq(\"GATGGAACTTGACTACGTAAATT\")\n",
        "print(my_sequence.complement())\n"
      ],
      "metadata": {
        "id": "ltZBr8mE4OhM",
        "colab": {
          "base_uri": "https://localhost:8080/"
        },
        "outputId": "d3ecdc2d-a278-4af7-c4ea-4304470bfb69"
      },
      "execution_count": 6,
      "outputs": [
        {
          "output_type": "stream",
          "name": "stdout",
          "text": [
            "CTACCTTGAACTGATGCATTTAA\n"
          ]
        }
      ]
    },
    {
      "cell_type": "markdown",
      "source": [
        "####**TASK BP21.2** <font color=orange> **Complete Rosalind #7 Transcribing DNA into RNA**</font>"
      ],
      "metadata": {
        "id": "UXCuEFxg6Jxx"
      }
    },
    {
      "cell_type": "code",
      "source": [
        "from Bio.Seq import Seq\n",
        "\n",
        "my_sequence = Seq(\"TAGTGCCGACCTAAACAACCCATCGACTAACGCCTTCCCCGATTCTATGTAAGCGCCGCCTGAAGGACCACGGCGCGGTTTTCCTCTTATAATACAAACTTACTGTTCTAGCAGCCACGCTGCACTCTTTACTCATAAATGGAAGTCACGAGCTGGGTGCATGGCGTAAAACACTTCCCACATAATACGAAACAAGATATAGACTGATGCTTAGGCTTGAAGCGCGCCGCCGGCCCGTACTGGGACGACTTCGGATACTATTTGTCAGTCCTGAAATGAGTTCAACGCCTCATGACTCTGTTCCTGTTCGAAGGGATATCAGTTAGTTCCCCGAACCCGCGGTTCTAGAACACGTTTCCGGGTCCAAGTTAACAGAGCCCCGGTCTCCAGTCAGGAAGCCCATCGCCTCGGCGGGACTTAGATTATACTAGGTGTCTTGAGTTCTAATGTCGTTTCCACGGCTAGGAAAGAATATATCCTTTCGCTATCATCGCAACCCCCAGGGTCCTTTAACATCGCAAATCATACGATGGAATGGAGCGCCAATTCATATTCCACTCTTTTGAGGTGAAAAAGGTTTCAACTTGTATGTAGACGTACTTTCGGACTCCCTCCCCCTCGCGGTTCCGATATAGAAATGCGTTGGGTGAAGAGACGCTCGCAGAGAAAGGCCCGTGCGAGAATACCCGGTTCTCAGGAGCTCCCGTTCTACGACGTCCCTAGTTTCGGGTGTTACTATGTGGATCAACCCTTACAGCCATATACCGAGCTAAGCAGAAACCCCCTCTTCAAGATTTAACGCGCTCAAGGTGGGGAAGACTAGCGCATCTCATGGCGACTAGCTCCACTCTTTGCAAACTTGTAAATCAACATGCCGAAAAATTGGAACAAACTGTACGTTGTGAGTATTTGCATTAAGCGAGAGATTTCAAGTCTAAAATTCCGCAAGGACCACGGCTCTGG\")\n",
        "print(my_sequence.transcribe())"
      ],
      "metadata": {
        "id": "UXt6gWLM6qde",
        "colab": {
          "base_uri": "https://localhost:8080/"
        },
        "outputId": "bd94e502-b100-4c83-81fb-6e4f4b0e0818"
      },
      "execution_count": 7,
      "outputs": [
        {
          "output_type": "stream",
          "name": "stdout",
          "text": [
            "UAGUGCCGACCUAAACAACCCAUCGACUAACGCCUUCCCCGAUUCUAUGUAAGCGCCGCCUGAAGGACCACGGCGCGGUUUUCCUCUUAUAAUACAAACUUACUGUUCUAGCAGCCACGCUGCACUCUUUACUCAUAAAUGGAAGUCACGAGCUGGGUGCAUGGCGUAAAACACUUCCCACAUAAUACGAAACAAGAUAUAGACUGAUGCUUAGGCUUGAAGCGCGCCGCCGGCCCGUACUGGGACGACUUCGGAUACUAUUUGUCAGUCCUGAAAUGAGUUCAACGCCUCAUGACUCUGUUCCUGUUCGAAGGGAUAUCAGUUAGUUCCCCGAACCCGCGGUUCUAGAACACGUUUCCGGGUCCAAGUUAACAGAGCCCCGGUCUCCAGUCAGGAAGCCCAUCGCCUCGGCGGGACUUAGAUUAUACUAGGUGUCUUGAGUUCUAAUGUCGUUUCCACGGCUAGGAAAGAAUAUAUCCUUUCGCUAUCAUCGCAACCCCCAGGGUCCUUUAACAUCGCAAAUCAUACGAUGGAAUGGAGCGCCAAUUCAUAUUCCACUCUUUUGAGGUGAAAAAGGUUUCAACUUGUAUGUAGACGUACUUUCGGACUCCCUCCCCCUCGCGGUUCCGAUAUAGAAAUGCGUUGGGUGAAGAGACGCUCGCAGAGAAAGGCCCGUGCGAGAAUACCCGGUUCUCAGGAGCUCCCGUUCUACGACGUCCCUAGUUUCGGGUGUUACUAUGUGGAUCAACCCUUACAGCCAUAUACCGAGCUAAGCAGAAACCCCCUCUUCAAGAUUUAACGCGCUCAAGGUGGGGAAGACUAGCGCAUCUCAUGGCGACUAGCUCCACUCUUUGCAAACUUGUAAAUCAACAUGCCGAAAAAUUGGAACAAACUGUACGUUGUGAGUAUUUGCAUUAAGCGAGAGAUUUCAAGUCUAAAAUUCCGCAAGGACCACGGCUCUGG\n"
          ]
        }
      ]
    },
    {
      "cell_type": "markdown",
      "source": [
        "####**TASK BP21.2** <font color=orange> **Complete Rosalind #8  Translating RNA into Protein**</font>"
      ],
      "metadata": {
        "id": "9P4_MaXp6O3n"
      }
    },
    {
      "cell_type": "code",
      "source": [
        "from Bio.Seq import Seq\n",
        "\n",
        "my_sequence = Seq(\"AUGUACUUGGAGAGUUUCACUCGGUUCAUUCUCAUCCGGAGUAAACAGUACCAUCGCAGCGAGCCAUCUACCAUUGCAGCGGACAUGCGUGUUCCUAAAGCACUGUUUCGUGUAGAUAAUCUCGAAACCUUACGGUUCAGACAGUCUUCAUCAGUGCGCGCACUUUUCCGUCGAAAUUGUUAUCGAGGAACCACCUCAGGAGACUACUGCUACGAAGGUAAUGCCACGCCGGGAGUUAGGGUAGUUUUCCACGGAUGUCAGUGCAGUCGUCCUCUAAGGGUAACGAGGAGCGGUGUAACAUCGAAAUCGCUUGGGUCCCAGUCUAUACUCGAUCUCUUUCAAUCGUGGACCAGUCGUCGUUGUAGACACCUGGAGGGAGUCUGUGAUUGCUUUCGCUUUGACGGCGCUAGGGCGGUUAGGAUUGUUACAAAGGUCUACCUAGCGGUCUCAGCCUCUCUGAAUCUCAAGGCGGUUAGCAAUAUAAAGAGGAAAGGCUCGCAAGUUCAACGAAAAGAAACGGGUCAGCCAUUGAACGUCGGAUCUUUUACAAUGGCGGCAGCGGGGAUCACAUUACAUUUAAAGAGGCUGCUGAGACAGUUGAUGGGGAGUUACAGCGGUUCGUCCAACCUCACAUCUUCUAACAUAGAAAGCACGUCGUGUCCCGGUGAAGCUGUUGUACUCCAGACCUGCAAUUCUAACGGGGACAAAUCGAGGUUGUGCGCGAGAGUGCCUCGUGGGUCAAUUACGAAUGACUUUUCCGUAUCAGCUCUAACCGAAAAGGUUCCUACAAAUGUACCAGUGACUGCCUUUCUACCGCGACAAAAGUCUACAUGGUUUCUGGAGCGGUCUGAAAGUACUUGCAUCCCAGAUACAUGCCCGUUUGAUUCGAUCUCAAUCAUCGUACGUUGGAAUAGGUCGCUGGUCUCCUGCACGCGGCGGCUGCGGUAUCGAGCCACAUAUCCAUCGCCACGGAGAUUUAUUCGAGCCACAGGGACGGGUUGCGUUGUAUUUCCCCGCGACGUAGCUUGGGUAAUUUGUUCGUCGGACAUGAGGUCAGCAAGUGACCAUAGAAUGACUGAAAUGCGGUUAGAGGGUCCUCCUCUCUUGGAGCCACAAACGUACGGGUACCAAAUUUGCGGCAGGACUUGGACACCUUAUGUACAUGAUCCGACCCUGUUUUCGACCUUGGGACCGGUCAGGUCCUUAAACCAUCCUCGAAGGAUAAACUCCCUCGGAUUCGGGAGUUAUUCAGAUGAGAUGCAACAGCUCGUCUACGGUCAUAUGGCAACCUCUGUUUUCUUGAAGAGCACAAUUACUCAAAGAGUAUCGUUCUUCAAUGACCUAAAACCCUCGGGCAAGGUCUCGAUCGUUGGAACACACAGACAACUCCAGAGCCUAGUUCAACUCUACGGGAGGCCGAAUGUACCGAAACCGAGUCUUAGGCUCCGUCGGUUAACUCGUUUGGAUAUCGAGAGAAACUUCCUGUCCCCGGGGAAUACGCUACAUUUUGGCGUAGGCCGUGGAAUUUUUGGAGGCCGGGGCCCUUUCGUGGAUCCACGCUUUGCCGCCUCACGCAUUAUGAACAAAUGGGAAUAUAGUCGUCCCGGUACGCCCCUGAUACAUUACUCAGUAAGUUAUGCCGGUCACGUCUGCAAGCUCUGGUGCAGUCCGUCAUCCGAGGGGUCGAGUCUAUCCAUCAAUAGUAUCUGCCCUAAGGCAGGGCUGCUGCAUGUCUGGGAAACGAUACUAUAUCUCCCUAACACGCAGCCCUCGACGCUGGAACUUCCAAGUAACCACCAGAAAAUCUUUGCCGAGCUCCAGCGGCUACUUCCAUUCGGCAGGUGGCCUAUUAACUGCCAUUCGCAAGUGAUGGUGACUACAAUCUCGACCGUGUCACCCUUGUACUUCGGUGGAACGCUUGUUAUAGACAUUACGGUCCGGAAUAACAUCACAGCGCGUCAAAGAACGCUCUUACCUGUUGUCAAAUACCCGAUUUUAUUCUCAUUUACGGGUACGCAGCGAAACCGACUUGGGGUCUUCACUGGCCCACACGUAAAUGACAGUCAAGCGUGUGGCACAUUCAUCGCUAGUAUUGGAUUCAGAAGACUAAUCAAAUUGGUCGUAAUUAUUGAGAGAGGGCGCCAGCAUUUGUCGGUCCACUCGUAUCCUUGGGACCGUAGUCCCUGCAUAUACUGUCCUUAUGAAGGCUCGACGCUGUCUUAUACAAGGCCAACCUUAGCGACUGGUCGAACAGUCUCGGGGGGCUCGGCGCUGACCAAGUUCGAGUGUUUCAGAUUUACGUUCAUCGGGCAAUUAGUCAUCUGUCGGGAGUAUGACAUGUACCGUCUUGGUGCAUCACUAUGUGGGGCUAGGUCCGCCCCCGCCGAUACGACGCCCGGCGUAAGAGUGCUCAGGGUAAGCCAGAUCUAUAGCGUAUCGUUCCCUUCGCAUAACCCCGCGAUUCUUCAGCCCCUAUGUUGGAGGUAUACUCGUGAUCCUAUGUCCUGUCACCUGUUCUCUCCGCCCCAUGGGCGGCAACAUGUGCUAGUUGAUAUCGACAUCGUUCAUGUAUACCGCGUUGAUAAUGGCUUGUUAUAUGCUCCUAACCUACAGCUACGAAAUCUUUUACACCCUACUCAUCUUGACAGGUCGCAGACAAGUUGUCAGGGAUUCCUGAUGUUCUCUGGAUGCCAAGUCGGGAUGUUGACGCGCAGUAUCUAUCUCACUCUAAGUUGGGCGAAAUCAAACGCUCUGCGUGUCACUAGUCGUGCAACGCUAUUUCCGCCGUUGGAGACUUUUGAGAUAUUAGGUAUACCCCACGACGAUCCGGAUCGAAGGAGGACAUUCCUGUCCGUUUGGAUCGUCCUCUUUACCCCUGUCUGUCGACUGCGGUCACAGCUCCGUGACCUUUUAUGCCUCCAACACCCGUGUUGGUCUAACUUCAGCAAUAUCGGUAGCCCCUGGUAUGCUAAGGAACUGAAAACAUGUUUGUUCCGCUGGCCAAGUACACUACUAUUUAAUGCUCAGUCGGCCAAGCUACGACGGACGAGCUAUGUCCUAGUCCAUGCAUUACUGUGGCACUGCUGGAGGACAGUUUUCCGGCGGAGAGAGGCUGUAAUUCUACCUGGUUUAGUGAGGUUUUUGCGGGUGGGCCCAAGUGUGAACGCCCAGCCCGCAGUCGACCAAGACCGUCCGAAUCCUUCCGGGUGCGAAUUUAUUACAAGUGCGGGGAUUCGCCGCCGGGGUCCUACCUAUCUACUUCCUUUAAUUUUUUUUCCACUGAGUAAGGGCUUCAAGCUAGCGGACAUUGUUACAUUACGUACUCGAAAACAAGGGAUGGAAGAACUAGGAGUAGGACUCGUGGGUCGCAGGAGGUCAAGGCGAGAUGCGUUGUUCCAUUCAUCCCAGAUCGCGCUACCACAUGUAAGAGGUCUGCGACAAGCCGAUUUACACUUUUCCCAGUACGGGGUGUUGUUUCAGACCUUGUCGUCUACCAUCUUUUACUUACAAGUUAUUCGUCGACGUACCUCCCCGAGUUAUCCAACUAGUCGCAUGUAUACGAUGCAAGUUGUGUUGCAUGCGCAACCUUCAAGCAUGUCCAAAGUUCCGUCUUUAGUUGAGGACGAUAUUCUUUAUUUUCUGUUGGGAUUUCUCGAAAUCUUAAUGGAGAACCAAGACAUAAAUGUGUUCUCUAACAAAGCUGGUCUGCCGAGCACCUCGACUUGUCGUCACAGGACACAGAAGGUGUUCCCCCUAUCAAUUAAAGCACAGGAUCCGUGCAUUACUUCUCCAACGAUGACAGUUUAUAGAGCUGUGACUGUCUGGGCGGCGCCCAUCACAAUAUGGUGCUUAUUAUUCCCAUGCGGUCGUGACGUCUGCAGUAACGCUUAUGCUGGAAACUCCAAAAGCUUUACAAAUGCUACAGUGUGCCGGCCAUGGCACUGGUUACAAUUUUCAUUGAAGACUGCAAGCGCCUGUGAUCGUAACACAACCUUGAAAGAUCUUACAAAGAAGAAGUUGGGUAACAAUAUUCUGCUUUUCUGCCACGGGGAUAGCCGGCGCGAGUGUGCCCCAGAUAGGGUAUUACUGGUCGCCCCACUAGCGCCCCCUUCGCUUAAUGAUCAUGUUAGUGUCAGGUCACCCGAUGAGACCUCUUUGGCAUUGUGGUCACUAGAUGCCGGGGGUUUUGUGAUUGCGGUGAUCCUAUCGACCCUCGACGCAUGCACGCGCUCUCGCAGCCAGGGUUGCCACGGUUGGACUGGUUGUCCAGAAACCACCAACCUACGAUGUUCGGCUGGGCUACCAAUCCAUGCCGCUGUGCCCCCUACAGGUACUUCUUCUGUUGGUGUCCAACCUGCAUGCCUCAAACCUCUUAAGAUGCAGAACGGAGUAUCCCAUUGCUCACAAACUUCUGAUAACUCCACUCUUCUGAUAGCUCGGCUAUUUUGGAAUGCAACCCCAGGACUUGCGAGGUGUGUUUGCAGCAGAGAAGGCGGGGCAAACGGGUCCGCAGGGAGUAGUUGCCGGGGCUGUAAAGGGCGCCAGAGGCUGUUGACGAGUAUGAAUUACGCCGAGCCGAUCCGGCAAGUACAUCUCCGAUUGGCAAGUUCGAGACAACUGAACUCUAUGGGUCCGCCUCGCAUACUAGCGCCAUACUAUGCACGAAUGCUCUCGCAUCCAGGCAGAAGGGAUUCCCCCUAUAUUAUAUCCGACAGCACCGCAAUAGUAGGGUGUUUCCAGCUCACUUUGCGGUCAGUGUUUGAGCCUAUGUCUGCUCCGGCCGGUUCAAUUCACGAUAGAGUGAAGCAUUGCGCCGUUAGACCCGGUGUAUUCGAAGCACCAACAUCCCCCUUGCGGGACUUGGCCUUCAGGAGAACAUGUCGCGCACGCCGGCCAAAGGUUCUGACUAGCGUCGUAAUUGACCAAGCCCCAAAGACGAAUCGCGCUUCACGGGGCUCAGCUUACCUAGCGUCCGUCACUUCAUGCGUCAAACUUGCAACCAGAUCCCAUUUCAACUUCGGUUACGGCCGUAUCGCUCCAAGACUCGGAGAUCUCUUCUGCUGUGGCGAUCCCCCGCGCCACUGCAUACCGAUAAUUAUGCCUCGAGGACCAACGCAAACAAUAGCCUUACUAGGCGCAGUGAAGUUGCGGGAAGUGAGACACCUAAAAUUUACUUCCUACACUGUUGCUCCGCAAUGUCGCGUGGCAGUUUGGGACUCGUUAGUGUUACCCUCUUCGCGCCCCGCUAGUCGCACCCCACACCUGACGCACUUAAGGACUACUUCAUUUCACUGCGCACCGGAUGGGACCCCGCCAGGGUUACGUGGGUCCGGGAAUACGGCCUUUGUCAAUCCUUCGCAUGGUCGGGAGGCGAAGGGGGCCAAAUCCUCAUUCAUUGGAAAUCGGACGCACCCAUCACAGUAUAGACUAUCUCUAUCCCCGUCGUCCGCGUCUAGCGACAGAUGCCAUCAAACGAUAAGGCUUCGCAAUAACUCAACCCAUGAUUUUGCCCUGCAAAUAACCCAUCGAUACGUCGUGUUGCGACCAGGUCGAUUUUUGAUCCUUAAGUUUAGCCAACCGAUCGGCUCCGCUUCACCACCGGUACCUGACAUGAUUUUGCUACCAGAUUCCUCCUCCUCACACUCUGGCAUUUCCGCUAAACUAAUAUGUGGGGGAGGAUGGUAUAUGCCAUACAUUAAAGUCUUUGAGGUGCUCAGAUUAAAGCGGACACUAGAUCCUACCCACCCGCUCGAGCUGGCUCACAAGAAUAGUUACACCCGACAGCGAGGAGAAAGAAUGCUUCGCUCUGCCGAACAAUUUCUGACCAACAAGGUACUAGUUUGUGUGCAAUGGGCUCUGCAGGUUCACCCCGCCGAAAGCCCCUUGUGUCCCCCGACGGAAGCCAGCUGCGAGGGCAUACUGUGGGUGCGAGUAGGUAUUGUGGGCCUGGCAGGGGACUCACUCUCGAUCUUCCACAUCGGACUAGGCGAGAUUAGACGCCGCAAAACUCCGCCCAAGUUUUUCCCUUGUGGUGCCCUCACCUGUAACAGUCGAUGUGCUGUCGUAAUUCAAACCCCCGUCGGGAGCCCAUCUCAUUUGUCCAAACGGGGGGUCCACAGUAACCGCCUUGAAAACACGUUUAUAGCCGGAUCACAUGCGUCACGAAUCGGUAUGGGUUGUGGUCACAUACGCGAGUUACGCCCGGUUUGCGACACGCUGUUACCCGCGGCAGGCUGCCGGAUAAGAGUAACACAUCGUGUCUCCCAUCACGCCCUCACCCGACCUAGGGAGUCUAAUAACGCCUUGCUUCCAUGUUCACAGCCAACCCGACUGCCUCUGACGCUUCUGGGCUCGCUUAUCAACCGGAUAAUUCCACUCAUACCCCAUGCGAGUAAUGACUCGAAAGUUCGCGAUUAUUGGGGCGGGAACAAUGGCCCGGCCGGAGUGUGCGUAGUAAUCGGAACUAGUGUUUACUGGAGGCGGGCAGUUAUUCCUCUCGGUACACCUAGGUUAUUGUGCGUCAUUAUCAUACGCACCGCCAGUACCGCGGGGUAUGCGACCUACCCGACGUGUCAAGGCGUAUUCUACGUGCCGUUGAGAGAGUAUUUUGGCUCUCACCAUAGGGAUGCCACGAGCCAAUUCUUGGUUCGGUCCUCAUUGUCAUCUCAGUAUAAUGACGCUGUCUACAAAGGUCCUGGGGCCAGUAUCCAGGAGAGGCAGCCGAACCGACUCUCUUUAAGCAAGAGACGGAAUCAAUCUAGCCAGGCCCCUCCCAGUAUGGGUAGCUACCUUGCAUCGGGUUAUGUUCGGAACGUACAGUUCAUGCCUAAUCUUGAACACCGACGCGAAAAAAAGGCACAUUUUCAGUUAUUCAACAGGACGCACUUUAUUCCCGCAAUUACAUCCUUUAGAGAUGAACGGGCAACUAGUCUUGUUAUCCACGAAGUAGACAUCCGGCUAUUAACUGAUGUCAGCGCGAGUGUUGUCCCCCUAGGAACCCUACGUCGAGGGCCUAAACUGCCAUCCUUCGAACUUAAAUGCUUAGCAAUAAGCUUACCCAAUUCCAACACAGGCGAUCUCCAGGCGAGCCUCGGCUUUUCCGUGCCAGACCCUUCAGUAUUUGCACUGUUUGGGCAUUUGGAUCUGGCGUGGAUCAAGAUUAUUAGAGUUCGACUCCUCUUAACGAUUCUCAUUAAACGGCAGAAAUGCACCGCGACUAUUCUGUGGUUCGCGCAGCGUCUAACGGACUGCAUGGACCAAGUGAGCCCUAGACAGCCCUCGAAUUUGACUGAAGGCGGAUUGCUCCGAGACCGAUCUUGCUGGGUUCGUGCGCCUCAAACUUUCAAUGAGUGGUUGAAUGUACCGAAUUGGCUUGGACUAGAGUCCUUUUGGUUCUGCGACGCGACUAGAGUCUGGGAGGCGCCACGACAAGUAACGGUCCCCCACUCGGUACGUCGAUCCCAUAGCCGCUCUAACGCGCAAGAUAUGAACUCAGGACUGAGCUUCGGAUGGCAUAGUGUGACAUCUAAUGCCCACAGGCAGGCAGGGCAGGUCCAGUGUACGGCGAGGCCACUGGUCGAACCACAGUCCUAUCCCAUGAUUGAUUGUACGCAAGCGGUUUCAGCUAAAGGAGAUAUUAUAUCUAUUACUCCGACUACGGGAAAUCCUGUUGCGCUGGCGCGUGGAGAUCCACACAAGAGGGCCACGAUCGUAGAGGUGGGGUAUGUUCUUACACGGGCGUUCUCGUCUCGCGUGAGUAACAGCGUGGAACCCAGUGACGGAAUCCUCCUCUAUAGCGUCACCAGAUCCACAGCAGUAUGGGUUACUCCGGCUACCCCGCACGGUUGCUCCGCGACGAACUCGGAGUGUACGCUAGAGAAGUCUACAGCCAGCAUCAUAUCUACAAGGCCACCUGAGCUGGGUAGGAAAUUCUCGUCGGUAAGCCAGAUCGUCGAGGUGGGAAGGAGGGCCUACAUGAAAUUCGCGGGCCAAGCCUCACCAGUAAGUCUCGGGCAACCUGACUGCGGCUUUGAUCAGAGAUAUUUCGUAGGACCCCCUUACCGCGGGGUUCUCAAAUGUGACGAUUUUCAAUGCGCCCCUAGGGGGCCAGACCGCUCGUCGUUGAACCCGUAUCUGAAUUCUGCCCAGACUGACCCCGGUUGUCCAGAACAGUUAAUCAUAGGAUUUCCGGCCAUAGCGUUUAGAGCCAAAUCCAUUGUUUCAUUCCCAUCGUACUCGAACCUUAUUUUAGACGCGCCAACGGUGCAAUACUUUUUCGUUAAGACGAAUGUCAAGUUGUCUGAUGAUUUGUCUUACGCAGCAUUCAACUUUCUCAGAUAUGCCGUGAGGGAUAGAGCCAAGGGUGCCGGGCCUGUCCUGUGCGGAAGAACUUGUACUAAGCCGAAACAUCCGUCAUGGCUGGGUUUUCAUCUACCCCGUCGACGGGCCGCAAUGCGAGUCCAGUUGCGAAAAGGUUUGAUAUAUAGGCGGCGUGGUUUACCAAUGCAACGGAAGCCAAGACGUUAUACGAACACACUGCGUGUAGAGCCCCCUAAGGGGAUUUGCCAUAGAACUGCGGACGGGAACGGACACCCACAGGCUGGCGGUGAGAGAAUUUCUACGGUCAACGUUGCAGUGUGCCAUACUAGUGCUACGGGCCUUAUCUGGAGUCCGAUAAGUAGGCGGCGCGUAUCCACAGAUCUCGAGCCUUUUGAGGCCGCGGGCUGCUUGCGUGCAUCCAUAGUAACGCAGCCGAGAAUAGUCACUUUGACUUUAUACGAUUUUGGUGGCUUGCUCCGUAUGCGCCCAAAAUGGUCGUGUGAUUUAAGAAAUCUGGAUCCUGCCAUACAGUCAGUAUUGUUGAAAACAGCGCCGCGGCAUCCCCGGUCGGGUUGGCACAGGACGCUUACAGGUACCAAACUUAGGCGACCAGAGCUCAUUCAAAAAGUUCCACGACCUAUGAUUAUAGUGAGUCUUUUAAAGCUUGCAGCGUCAGUUUACGUGUGCGAACCCCAUUCUCUAUGCGGUUAUCACGAAUACAGUAGUGGCAACACAAGGCUUCAACCCACAGGCUCUUACCGAGUGGUAUUGUUGUCUCCUCUUGACUAUGUGAGAACAGUGAUCGAAGCGCGAAUAGUUACAGAUUCGGUCUUCGUUGCGGUUUUGAGGGUGGUAAUCGGCGCUGACUUGCAAACGGUUUUAAGCUACGGCAGAAGGAUUGGAGUAGAGAGGAAGGGAUCGGCCGCAAGGGGCCAAGAUUGUGGGAGAGGACCCAAGCGCAAAUAUAAACGAAUAACUCACACCGUGAGAUCAGCAUGCAGCGACGGGAACGACUUGAAUUCCUAUAGUCCAGAUACCGCUCUUAGAGAACACCCGACGGUUAUAUUUAAAACGUUUUUGGUGCGUGAGGAGAUUGCGUUAGUGCGCCAAGUCAACGCCCCUACCGGCACGGCAGUCAGAAGUCGCACGCAUAUGAGGGCCUGUUGUCGCCUUGUAAACUCCUACUCUAAUUGCCUUCCUGCCCUAAGUAGCACUUAA\")\n",
        "print(my_sequence.translate())"
      ],
      "metadata": {
        "id": "5Rzzfzij6q2P",
        "colab": {
          "base_uri": "https://localhost:8080/"
        },
        "outputId": "cf0e5106-c6c6-482d-cdf1-afe57acffe8c"
      },
      "execution_count": 8,
      "outputs": [
        {
          "output_type": "stream",
          "name": "stdout",
          "text": [
            "MYLESFTRFILIRSKQYHRSEPSTIAADMRVPKALFRVDNLETLRFRQSSSVRALFRRNCYRGTTSGDYCYEGNATPGVRVVFHGCQCSRPLRVTRSGVTSKSLGSQSILDLFQSWTSRRCRHLEGVCDCFRFDGARAVRIVTKVYLAVSASLNLKAVSNIKRKGSQVQRKETGQPLNVGSFTMAAAGITLHLKRLLRQLMGSYSGSSNLTSSNIESTSCPGEAVVLQTCNSNGDKSRLCARVPRGSITNDFSVSALTEKVPTNVPVTAFLPRQKSTWFLERSESTCIPDTCPFDSISIIVRWNRSLVSCTRRLRYRATYPSPRRFIRATGTGCVVFPRDVAWVICSSDMRSASDHRMTEMRLEGPPLLEPQTYGYQICGRTWTPYVHDPTLFSTLGPVRSLNHPRRINSLGFGSYSDEMQQLVYGHMATSVFLKSTITQRVSFFNDLKPSGKVSIVGTHRQLQSLVQLYGRPNVPKPSLRLRRLTRLDIERNFLSPGNTLHFGVGRGIFGGRGPFVDPRFAASRIMNKWEYSRPGTPLIHYSVSYAGHVCKLWCSPSSEGSSLSINSICPKAGLLHVWETILYLPNTQPSTLELPSNHQKIFAELQRLLPFGRWPINCHSQVMVTTISTVSPLYFGGTLVIDITVRNNITARQRTLLPVVKYPILFSFTGTQRNRLGVFTGPHVNDSQACGTFIASIGFRRLIKLVVIIERGRQHLSVHSYPWDRSPCIYCPYEGSTLSYTRPTLATGRTVSGGSALTKFECFRFTFIGQLVICREYDMYRLGASLCGARSAPADTTPGVRVLRVSQIYSVSFPSHNPAILQPLCWRYTRDPMSCHLFSPPHGRQHVLVDIDIVHVYRVDNGLLYAPNLQLRNLLHPTHLDRSQTSCQGFLMFSGCQVGMLTRSIYLTLSWAKSNALRVTSRATLFPPLETFEILGIPHDDPDRRRTFLSVWIVLFTPVCRLRSQLRDLLCLQHPCWSNFSNIGSPWYAKELKTCLFRWPSTLLFNAQSAKLRRTSYVLVHALLWHCWRTVFRRREAVILPGLVRFLRVGPSVNAQPAVDQDRPNPSGCEFITSAGIRRRGPTYLLPLIFFPLSKGFKLADIVTLRTRKQGMEELGVGLVGRRRSRRDALFHSSQIALPHVRGLRQADLHFSQYGVLFQTLSSTIFYLQVIRRRTSPSYPTSRMYTMQVVLHAQPSSMSKVPSLVEDDILYFLLGFLEILMENQDINVFSNKAGLPSTSTCRHRTQKVFPLSIKAQDPCITSPTMTVYRAVTVWAAPITIWCLLFPCGRDVCSNAYAGNSKSFTNATVCRPWHWLQFSLKTASACDRNTTLKDLTKKKLGNNILLFCHGDSRRECAPDRVLLVAPLAPPSLNDHVSVRSPDETSLALWSLDAGGFVIAVILSTLDACTRSRSQGCHGWTGCPETTNLRCSAGLPIHAAVPPTGTSSVGVQPACLKPLKMQNGVSHCSQTSDNSTLLIARLFWNATPGLARCVCSREGGANGSAGSSCRGCKGRQRLLTSMNYAEPIRQVHLRLASSRQLNSMGPPRILAPYYARMLSHPGRRDSPYIISDSTAIVGCFQLTLRSVFEPMSAPAGSIHDRVKHCAVRPGVFEAPTSPLRDLAFRRTCRARRPKVLTSVVIDQAPKTNRASRGSAYLASVTSCVKLATRSHFNFGYGRIAPRLGDLFCCGDPPRHCIPIIMPRGPTQTIALLGAVKLREVRHLKFTSYTVAPQCRVAVWDSLVLPSSRPASRTPHLTHLRTTSFHCAPDGTPPGLRGSGNTAFVNPSHGREAKGAKSSFIGNRTHPSQYRLSLSPSSASSDRCHQTIRLRNNSTHDFALQITHRYVVLRPGRFLILKFSQPIGSASPPVPDMILLPDSSSSHSGISAKLICGGGWYMPYIKVFEVLRLKRTLDPTHPLELAHKNSYTRQRGERMLRSAEQFLTNKVLVCVQWALQVHPAESPLCPPTEASCEGILWVRVGIVGLAGDSLSIFHIGLGEIRRRKTPPKFFPCGALTCNSRCAVVIQTPVGSPSHLSKRGVHSNRLENTFIAGSHASRIGMGCGHIRELRPVCDTLLPAAGCRIRVTHRVSHHALTRPRESNNALLPCSQPTRLPLTLLGSLINRIIPLIPHASNDSKVRDYWGGNNGPAGVCVVIGTSVYWRRAVIPLGTPRLLCVIIIRTASTAGYATYPTCQGVFYVPLREYFGSHHRDATSQFLVRSSLSSQYNDAVYKGPGASIQERQPNRLSLSKRRNQSSQAPPSMGSYLASGYVRNVQFMPNLEHRREKKAHFQLFNRTHFIPAITSFRDERATSLVIHEVDIRLLTDVSASVVPLGTLRRGPKLPSFELKCLAISLPNSNTGDLQASLGFSVPDPSVFALFGHLDLAWIKIIRVRLLLTILIKRQKCTATILWFAQRLTDCMDQVSPRQPSNLTEGGLLRDRSCWVRAPQTFNEWLNVPNWLGLESFWFCDATRVWEAPRQVTVPHSVRRSHSRSNAQDMNSGLSFGWHSVTSNAHRQAGQVQCTARPLVEPQSYPMIDCTQAVSAKGDIISITPTTGNPVALARGDPHKRATIVEVGYVLTRAFSSRVSNSVEPSDGILLYSVTRSTAVWVTPATPHGCSATNSECTLEKSTASIISTRPPELGRKFSSVSQIVEVGRRAYMKFAGQASPVSLGQPDCGFDQRYFVGPPYRGVLKCDDFQCAPRGPDRSSLNPYLNSAQTDPGCPEQLIIGFPAIAFRAKSIVSFPSYSNLILDAPTVQYFFVKTNVKLSDDLSYAAFNFLRYAVRDRAKGAGPVLCGRTCTKPKHPSWLGFHLPRRRAAMRVQLRKGLIYRRRGLPMQRKPRRYTNTLRVEPPKGICHRTADGNGHPQAGGERISTVNVAVCHTSATGLIWSPISRRRVSTDLEPFEAAGCLRASIVTQPRIVTLTLYDFGGLLRMRPKWSCDLRNLDPAIQSVLLKTAPRHPRSGWHRTLTGTKLRRPELIQKVPRPMIIVSLLKLAASVYVCEPHSLCGYHEYSSGNTRLQPTGSYRVVLLSPLDYVRTVIEARIVTDSVFVAVLRVVIGADLQTVLSYGRRIGVERKGSAARGQDCGRGPKRKYKRITHTVRSACSDGNDLNSYSPDTALREHPTVIFKTFLVREEIALVRQVNAPTGTAVRSRTHMRACCRLVNSYSNCLPALSST*\n"
          ]
        }
      ]
    },
    {
      "cell_type": "markdown",
      "source": [
        "####**<font color=crimson>TASK 21.3 Commit to GitHub**</font>\n"
      ],
      "metadata": {
        "id": "dvtR4N7L6sZ_"
      }
    },
    {
      "cell_type": "markdown",
      "source": [
        "#<font color=blue>**P22.**</font> SeqIO – a function to parse( ) sequence files"
      ],
      "metadata": {
        "id": "bDJqtRiX3fEG"
      }
    },
    {
      "cell_type": "markdown",
      "source": [
        "####**TASK BP 22.1** Read in the practice dataset from Rosalind #9 and print the id of each sequence in the file."
      ],
      "metadata": {
        "id": "VKyMhLjx7nIo"
      }
    },
    {
      "cell_type": "code",
      "source": [
        "from Bio.SeqIO import parse\n",
        "\n",
        "for seq_record in parse(\"practice_9.txt\", \"fasta\"):\n",
        "    print (seq_record.id)\n",
        "    print (seq_record.seq)\n",
        "    print (len(seq_record.seq))\n",
        "    print (seq_record)"
      ],
      "metadata": {
        "colab": {
          "base_uri": "https://localhost:8080/"
        },
        "id": "xUi3JEoh7yJ6",
        "outputId": "70d2fb30-4160-4104-ec06-90bcf2e77b47"
      },
      "execution_count": null,
      "outputs": [
        {
          "output_type": "stream",
          "name": "stdout",
          "text": [
            "Rosalind_6404\n",
            "Rosalind_5959\n",
            "Rosalind_0808\n"
          ]
        }
      ]
    }
  ]
}